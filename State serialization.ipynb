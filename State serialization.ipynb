{
 "cells": [
  {
   "cell_type": "markdown",
   "id": "66c32da9",
   "metadata": {},
   "source": [
    "Running a simple simulation and exporting the battery:"
   ]
  },
  {
   "cell_type": "code",
   "execution_count": 1,
   "id": "896450b9",
   "metadata": {},
   "outputs": [],
   "source": [
    "from PySAM.BatteryStateful import default\n",
    "from PySAM.BatteryTools import battery_model_sizing\n",
    "\n",
    "battery = default(\"LFPGraphite\")\n",
    "\n",
    "battery_model_sizing(\n",
    "    model=battery,\n",
    "    desired_power=5.1,\n",
    "    desired_capacity=5.12,\n",
    "    desired_voltage=204,\n",
    ")\n",
    "battery.ParamsCell.minimum_SOC = 5\n",
    "battery.ParamsCell.maximum_SOC = 95\n",
    "battery.ParamsCell.initial_SOC = 50\n",
    "battery.Controls.replace({\n",
    "    \"control_mode\": 1,\n",
    "    \"dt_hr\": 1,\n",
    "    \"input_power\": 0,\n",
    "})\n",
    "battery.setup()\n",
    "for i in [-1, 2, 1, 0.5, 0, -2, -1.5, -0.5, 1]:\n",
    "    battery.Controls.input_power = i\n",
    "    battery.execute(0)\n",
    "\n",
    "exported_state = battery.export()\n",
    "del exported_state[\"Controls\"]"
   ]
  },
  {
   "cell_type": "markdown",
   "id": "a7ce5ec2",
   "metadata": {},
   "source": [
    "Creating a new battery out of the exported state, then comparing the new exported state"
   ]
  },
  {
   "cell_type": "code",
   "execution_count": 2,
   "id": "80e9ca5a",
   "metadata": {},
   "outputs": [
    {
     "data": {
      "text/plain": [
       "{}"
      ]
     },
     "execution_count": 2,
     "metadata": {},
     "output_type": "execute_result"
    }
   ],
   "source": [
    "from deepdiff import DeepDiff\n",
    "from PySAM.BatteryStateful import new\n",
    "\n",
    "battery = new()\n",
    "battery.ParamsCell.assign(exported_state[\"ParamsCell\"])\n",
    "battery.ParamsPack.assign(exported_state[\"ParamsPack\"])\n",
    "battery.Controls.replace({\n",
    "    \"control_mode\": 1,\n",
    "    \"dt_hr\": 1,\n",
    "    \"input_power\": 0,\n",
    "})\n",
    "battery.setup()\n",
    "battery.StateCell.assign(exported_state[\"StateCell\"])\n",
    "battery.StatePack.assign(exported_state[\"StatePack\"])\n",
    "new_exported_state = battery.export()\n",
    "del new_exported_state[\"Controls\"]\n",
    "\n",
    "DeepDiff(exported_state, new_exported_state)"
   ]
  }
 ],
 "metadata": {
  "kernelspec": {
   "display_name": "Python 3 (ipykernel)",
   "language": "python",
   "name": "python3"
  },
  "language_info": {
   "codemirror_mode": {
    "name": "ipython",
    "version": 3
   },
   "file_extension": ".py",
   "mimetype": "text/x-python",
   "name": "python",
   "nbconvert_exporter": "python",
   "pygments_lexer": "ipython3",
   "version": "3.9.7"
  }
 },
 "nbformat": 4,
 "nbformat_minor": 5
}
